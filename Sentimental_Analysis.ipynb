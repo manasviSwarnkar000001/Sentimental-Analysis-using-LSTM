{
  "nbformat": 4,
  "nbformat_minor": 0,
  "metadata": {
    "colab": {
      "provenance": [],
      "mount_file_id": "1CTDHmoM8sR4Gda2XMPIZLB4s1OqjfQWe",
      "authorship_tag": "ABX9TyPWh4VFREV5ExfKmYcNKlg5"
    },
    "kernelspec": {
      "name": "python3",
      "display_name": "Python 3"
    },
    "language_info": {
      "name": "python"
    }
  },
  "cells": [
    {
      "cell_type": "markdown",
      "source": [
        "# **Overview**\n",
        "\n",
        "This project is based on [Kaggle 50K IMBD Movie Review Dataset](https://www.kaggle.com/datasets/lakshmi25npathi/imdb-dataset-of-50k-movie-reviews).(Just 50% of it)\n",
        "\n",
        "This notebook will guide you through the process of Pre-Precessing, Model designing and Prediction."
      ],
      "metadata": {
        "id": "EDw27AfUX8Vw"
      }
    },
    {
      "cell_type": "markdown",
      "source": [
        "# **Imports**"
      ],
      "metadata": {
        "id": "F5rKnzSoZTwo"
      }
    },
    {
      "cell_type": "code",
      "execution_count": 1,
      "metadata": {
        "id": "WrD5xn7X95kP",
        "colab": {
          "base_uri": "https://localhost:8080/"
        },
        "outputId": "3869e134-779b-4118-ffb9-c3e4cffee71e"
      },
      "outputs": [
        {
          "output_type": "stream",
          "name": "stderr",
          "text": [
            "[nltk_data] Downloading package stopwords to /root/nltk_data...\n",
            "[nltk_data]   Unzipping corpora/stopwords.zip.\n",
            "[nltk_data] Downloading package punkt to /root/nltk_data...\n",
            "[nltk_data]   Unzipping tokenizers/punkt.zip.\n"
          ]
        },
        {
          "output_type": "execute_result",
          "data": {
            "text/plain": [
              "True"
            ]
          },
          "metadata": {},
          "execution_count": 1
        }
      ],
      "source": [
        "import numpy as np\n",
        "import pandas as pd\n",
        "import tensorflow as tf\n",
        "from tensorflow.keras.preprocessing.text import Tokenizer\n",
        "from tensorflow.keras.preprocessing.sequence import pad_sequences\n",
        "from tensorflow.keras.models import Sequential\n",
        "from tensorflow.keras.layers import Embedding, LSTM, Dense, Bidirectional, Dropout, SimpleRNN\n",
        "from sklearn.model_selection import train_test_split\n",
        "from tensorflow.keras.callbacks import EarlyStopping, ModelCheckpoint\n",
        "import regex as re\n",
        "import string\n",
        "import nltk\n",
        "from nltk.corpus import stopwords\n",
        "from nltk.tokenize import word_tokenize\n",
        "nltk.download('stopwords')\n",
        "nltk.download('punkt')"
      ]
    },
    {
      "cell_type": "markdown",
      "source": [
        "# **Reading Data**"
      ],
      "metadata": {
        "id": "-Wq-WUWoZbYL"
      }
    },
    {
      "cell_type": "code",
      "source": [
        "dataCSV = pd.read_csv(\"sample_data/IMDB Dataset.csv\")"
      ],
      "metadata": {
        "id": "RZ5GQM-mQr89"
      },
      "execution_count": 3,
      "outputs": []
    },
    {
      "cell_type": "markdown",
      "source": [
        "# **Sample Data**"
      ],
      "metadata": {
        "id": "vb7I0t7ZZkeU"
      }
    },
    {
      "cell_type": "code",
      "source": [
        "dataCSV.head(15)"
      ],
      "metadata": {
        "colab": {
          "base_uri": "https://localhost:8080/",
          "height": 519
        },
        "id": "ougg4wYiZlTI",
        "outputId": "3b1ce07d-8df6-4fb0-9873-7c27ec6c6538"
      },
      "execution_count": 4,
      "outputs": [
        {
          "output_type": "execute_result",
          "data": {
            "text/plain": [
              "                                               review sentiment\n",
              "0   One of the other reviewers has mentioned that ...  positive\n",
              "1   A wonderful little production. <br /><br />The...  positive\n",
              "2   I thought this was a wonderful way to spend ti...  positive\n",
              "3   Basically there's a family where a little boy ...  negative\n",
              "4   Petter Mattei's \"Love in the Time of Money\" is...  positive\n",
              "5   Probably my all-time favorite movie, a story o...  positive\n",
              "6   I sure would like to see a resurrection of a u...  positive\n",
              "7   This show was an amazing, fresh & innovative i...  negative\n",
              "8   Encouraged by the positive comments about this...  negative\n",
              "9   If you like original gut wrenching laughter yo...  positive\n",
              "10  Phil the Alien is one of those quirky films wh...  negative\n",
              "11  I saw this movie when I was about 12 when it c...  negative\n",
              "12  So im not a big fan of Boll's work but then ag...  negative\n",
              "13  The cast played Shakespeare.<br /><br />Shakes...  negative\n",
              "14  This a fantastic movie of three prisoners who ...  positive"
            ],
            "text/html": [
              "\n",
              "  <div id=\"df-eeb9be4a-ce90-4ea2-bab9-306515c2f959\" class=\"colab-df-container\">\n",
              "    <div>\n",
              "<style scoped>\n",
              "    .dataframe tbody tr th:only-of-type {\n",
              "        vertical-align: middle;\n",
              "    }\n",
              "\n",
              "    .dataframe tbody tr th {\n",
              "        vertical-align: top;\n",
              "    }\n",
              "\n",
              "    .dataframe thead th {\n",
              "        text-align: right;\n",
              "    }\n",
              "</style>\n",
              "<table border=\"1\" class=\"dataframe\">\n",
              "  <thead>\n",
              "    <tr style=\"text-align: right;\">\n",
              "      <th></th>\n",
              "      <th>review</th>\n",
              "      <th>sentiment</th>\n",
              "    </tr>\n",
              "  </thead>\n",
              "  <tbody>\n",
              "    <tr>\n",
              "      <th>0</th>\n",
              "      <td>One of the other reviewers has mentioned that ...</td>\n",
              "      <td>positive</td>\n",
              "    </tr>\n",
              "    <tr>\n",
              "      <th>1</th>\n",
              "      <td>A wonderful little production. &lt;br /&gt;&lt;br /&gt;The...</td>\n",
              "      <td>positive</td>\n",
              "    </tr>\n",
              "    <tr>\n",
              "      <th>2</th>\n",
              "      <td>I thought this was a wonderful way to spend ti...</td>\n",
              "      <td>positive</td>\n",
              "    </tr>\n",
              "    <tr>\n",
              "      <th>3</th>\n",
              "      <td>Basically there's a family where a little boy ...</td>\n",
              "      <td>negative</td>\n",
              "    </tr>\n",
              "    <tr>\n",
              "      <th>4</th>\n",
              "      <td>Petter Mattei's \"Love in the Time of Money\" is...</td>\n",
              "      <td>positive</td>\n",
              "    </tr>\n",
              "    <tr>\n",
              "      <th>5</th>\n",
              "      <td>Probably my all-time favorite movie, a story o...</td>\n",
              "      <td>positive</td>\n",
              "    </tr>\n",
              "    <tr>\n",
              "      <th>6</th>\n",
              "      <td>I sure would like to see a resurrection of a u...</td>\n",
              "      <td>positive</td>\n",
              "    </tr>\n",
              "    <tr>\n",
              "      <th>7</th>\n",
              "      <td>This show was an amazing, fresh &amp; innovative i...</td>\n",
              "      <td>negative</td>\n",
              "    </tr>\n",
              "    <tr>\n",
              "      <th>8</th>\n",
              "      <td>Encouraged by the positive comments about this...</td>\n",
              "      <td>negative</td>\n",
              "    </tr>\n",
              "    <tr>\n",
              "      <th>9</th>\n",
              "      <td>If you like original gut wrenching laughter yo...</td>\n",
              "      <td>positive</td>\n",
              "    </tr>\n",
              "    <tr>\n",
              "      <th>10</th>\n",
              "      <td>Phil the Alien is one of those quirky films wh...</td>\n",
              "      <td>negative</td>\n",
              "    </tr>\n",
              "    <tr>\n",
              "      <th>11</th>\n",
              "      <td>I saw this movie when I was about 12 when it c...</td>\n",
              "      <td>negative</td>\n",
              "    </tr>\n",
              "    <tr>\n",
              "      <th>12</th>\n",
              "      <td>So im not a big fan of Boll's work but then ag...</td>\n",
              "      <td>negative</td>\n",
              "    </tr>\n",
              "    <tr>\n",
              "      <th>13</th>\n",
              "      <td>The cast played Shakespeare.&lt;br /&gt;&lt;br /&gt;Shakes...</td>\n",
              "      <td>negative</td>\n",
              "    </tr>\n",
              "    <tr>\n",
              "      <th>14</th>\n",
              "      <td>This a fantastic movie of three prisoners who ...</td>\n",
              "      <td>positive</td>\n",
              "    </tr>\n",
              "  </tbody>\n",
              "</table>\n",
              "</div>\n",
              "    <div class=\"colab-df-buttons\">\n",
              "\n",
              "  <div class=\"colab-df-container\">\n",
              "    <button class=\"colab-df-convert\" onclick=\"convertToInteractive('df-eeb9be4a-ce90-4ea2-bab9-306515c2f959')\"\n",
              "            title=\"Convert this dataframe to an interactive table.\"\n",
              "            style=\"display:none;\">\n",
              "\n",
              "  <svg xmlns=\"http://www.w3.org/2000/svg\" height=\"24px\" viewBox=\"0 -960 960 960\">\n",
              "    <path d=\"M120-120v-720h720v720H120Zm60-500h600v-160H180v160Zm220 220h160v-160H400v160Zm0 220h160v-160H400v160ZM180-400h160v-160H180v160Zm440 0h160v-160H620v160ZM180-180h160v-160H180v160Zm440 0h160v-160H620v160Z\"/>\n",
              "  </svg>\n",
              "    </button>\n",
              "\n",
              "  <style>\n",
              "    .colab-df-container {\n",
              "      display:flex;\n",
              "      gap: 12px;\n",
              "    }\n",
              "\n",
              "    .colab-df-convert {\n",
              "      background-color: #E8F0FE;\n",
              "      border: none;\n",
              "      border-radius: 50%;\n",
              "      cursor: pointer;\n",
              "      display: none;\n",
              "      fill: #1967D2;\n",
              "      height: 32px;\n",
              "      padding: 0 0 0 0;\n",
              "      width: 32px;\n",
              "    }\n",
              "\n",
              "    .colab-df-convert:hover {\n",
              "      background-color: #E2EBFA;\n",
              "      box-shadow: 0px 1px 2px rgba(60, 64, 67, 0.3), 0px 1px 3px 1px rgba(60, 64, 67, 0.15);\n",
              "      fill: #174EA6;\n",
              "    }\n",
              "\n",
              "    .colab-df-buttons div {\n",
              "      margin-bottom: 4px;\n",
              "    }\n",
              "\n",
              "    [theme=dark] .colab-df-convert {\n",
              "      background-color: #3B4455;\n",
              "      fill: #D2E3FC;\n",
              "    }\n",
              "\n",
              "    [theme=dark] .colab-df-convert:hover {\n",
              "      background-color: #434B5C;\n",
              "      box-shadow: 0px 1px 3px 1px rgba(0, 0, 0, 0.15);\n",
              "      filter: drop-shadow(0px 1px 2px rgba(0, 0, 0, 0.3));\n",
              "      fill: #FFFFFF;\n",
              "    }\n",
              "  </style>\n",
              "\n",
              "    <script>\n",
              "      const buttonEl =\n",
              "        document.querySelector('#df-eeb9be4a-ce90-4ea2-bab9-306515c2f959 button.colab-df-convert');\n",
              "      buttonEl.style.display =\n",
              "        google.colab.kernel.accessAllowed ? 'block' : 'none';\n",
              "\n",
              "      async function convertToInteractive(key) {\n",
              "        const element = document.querySelector('#df-eeb9be4a-ce90-4ea2-bab9-306515c2f959');\n",
              "        const dataTable =\n",
              "          await google.colab.kernel.invokeFunction('convertToInteractive',\n",
              "                                                    [key], {});\n",
              "        if (!dataTable) return;\n",
              "\n",
              "        const docLinkHtml = 'Like what you see? Visit the ' +\n",
              "          '<a target=\"_blank\" href=https://colab.research.google.com/notebooks/data_table.ipynb>data table notebook</a>'\n",
              "          + ' to learn more about interactive tables.';\n",
              "        element.innerHTML = '';\n",
              "        dataTable['output_type'] = 'display_data';\n",
              "        await google.colab.output.renderOutput(dataTable, element);\n",
              "        const docLink = document.createElement('div');\n",
              "        docLink.innerHTML = docLinkHtml;\n",
              "        element.appendChild(docLink);\n",
              "      }\n",
              "    </script>\n",
              "  </div>\n",
              "\n",
              "\n",
              "<div id=\"df-5bfa91a0-3dfe-485a-80a0-4b6ddaf2b5dd\">\n",
              "  <button class=\"colab-df-quickchart\" onclick=\"quickchart('df-5bfa91a0-3dfe-485a-80a0-4b6ddaf2b5dd')\"\n",
              "            title=\"Suggest charts\"\n",
              "            style=\"display:none;\">\n",
              "\n",
              "<svg xmlns=\"http://www.w3.org/2000/svg\" height=\"24px\"viewBox=\"0 0 24 24\"\n",
              "     width=\"24px\">\n",
              "    <g>\n",
              "        <path d=\"M19 3H5c-1.1 0-2 .9-2 2v14c0 1.1.9 2 2 2h14c1.1 0 2-.9 2-2V5c0-1.1-.9-2-2-2zM9 17H7v-7h2v7zm4 0h-2V7h2v10zm4 0h-2v-4h2v4z\"/>\n",
              "    </g>\n",
              "</svg>\n",
              "  </button>\n",
              "\n",
              "<style>\n",
              "  .colab-df-quickchart {\n",
              "      --bg-color: #E8F0FE;\n",
              "      --fill-color: #1967D2;\n",
              "      --hover-bg-color: #E2EBFA;\n",
              "      --hover-fill-color: #174EA6;\n",
              "      --disabled-fill-color: #AAA;\n",
              "      --disabled-bg-color: #DDD;\n",
              "  }\n",
              "\n",
              "  [theme=dark] .colab-df-quickchart {\n",
              "      --bg-color: #3B4455;\n",
              "      --fill-color: #D2E3FC;\n",
              "      --hover-bg-color: #434B5C;\n",
              "      --hover-fill-color: #FFFFFF;\n",
              "      --disabled-bg-color: #3B4455;\n",
              "      --disabled-fill-color: #666;\n",
              "  }\n",
              "\n",
              "  .colab-df-quickchart {\n",
              "    background-color: var(--bg-color);\n",
              "    border: none;\n",
              "    border-radius: 50%;\n",
              "    cursor: pointer;\n",
              "    display: none;\n",
              "    fill: var(--fill-color);\n",
              "    height: 32px;\n",
              "    padding: 0;\n",
              "    width: 32px;\n",
              "  }\n",
              "\n",
              "  .colab-df-quickchart:hover {\n",
              "    background-color: var(--hover-bg-color);\n",
              "    box-shadow: 0 1px 2px rgba(60, 64, 67, 0.3), 0 1px 3px 1px rgba(60, 64, 67, 0.15);\n",
              "    fill: var(--button-hover-fill-color);\n",
              "  }\n",
              "\n",
              "  .colab-df-quickchart-complete:disabled,\n",
              "  .colab-df-quickchart-complete:disabled:hover {\n",
              "    background-color: var(--disabled-bg-color);\n",
              "    fill: var(--disabled-fill-color);\n",
              "    box-shadow: none;\n",
              "  }\n",
              "\n",
              "  .colab-df-spinner {\n",
              "    border: 2px solid var(--fill-color);\n",
              "    border-color: transparent;\n",
              "    border-bottom-color: var(--fill-color);\n",
              "    animation:\n",
              "      spin 1s steps(1) infinite;\n",
              "  }\n",
              "\n",
              "  @keyframes spin {\n",
              "    0% {\n",
              "      border-color: transparent;\n",
              "      border-bottom-color: var(--fill-color);\n",
              "      border-left-color: var(--fill-color);\n",
              "    }\n",
              "    20% {\n",
              "      border-color: transparent;\n",
              "      border-left-color: var(--fill-color);\n",
              "      border-top-color: var(--fill-color);\n",
              "    }\n",
              "    30% {\n",
              "      border-color: transparent;\n",
              "      border-left-color: var(--fill-color);\n",
              "      border-top-color: var(--fill-color);\n",
              "      border-right-color: var(--fill-color);\n",
              "    }\n",
              "    40% {\n",
              "      border-color: transparent;\n",
              "      border-right-color: var(--fill-color);\n",
              "      border-top-color: var(--fill-color);\n",
              "    }\n",
              "    60% {\n",
              "      border-color: transparent;\n",
              "      border-right-color: var(--fill-color);\n",
              "    }\n",
              "    80% {\n",
              "      border-color: transparent;\n",
              "      border-right-color: var(--fill-color);\n",
              "      border-bottom-color: var(--fill-color);\n",
              "    }\n",
              "    90% {\n",
              "      border-color: transparent;\n",
              "      border-bottom-color: var(--fill-color);\n",
              "    }\n",
              "  }\n",
              "</style>\n",
              "\n",
              "  <script>\n",
              "    async function quickchart(key) {\n",
              "      const quickchartButtonEl =\n",
              "        document.querySelector('#' + key + ' button');\n",
              "      quickchartButtonEl.disabled = true;  // To prevent multiple clicks.\n",
              "      quickchartButtonEl.classList.add('colab-df-spinner');\n",
              "      try {\n",
              "        const charts = await google.colab.kernel.invokeFunction(\n",
              "            'suggestCharts', [key], {});\n",
              "      } catch (error) {\n",
              "        console.error('Error during call to suggestCharts:', error);\n",
              "      }\n",
              "      quickchartButtonEl.classList.remove('colab-df-spinner');\n",
              "      quickchartButtonEl.classList.add('colab-df-quickchart-complete');\n",
              "    }\n",
              "    (() => {\n",
              "      let quickchartButtonEl =\n",
              "        document.querySelector('#df-5bfa91a0-3dfe-485a-80a0-4b6ddaf2b5dd button');\n",
              "      quickchartButtonEl.style.display =\n",
              "        google.colab.kernel.accessAllowed ? 'block' : 'none';\n",
              "    })();\n",
              "  </script>\n",
              "</div>\n",
              "    </div>\n",
              "  </div>\n"
            ]
          },
          "metadata": {},
          "execution_count": 4
        }
      ]
    },
    {
      "cell_type": "markdown",
      "source": [
        "# **Assigning Binary value to sentiment**"
      ],
      "metadata": {
        "id": "XNHIgIEhZwXK"
      }
    },
    {
      "cell_type": "code",
      "source": [
        "dataCSV['sentiment'] = np.where(dataCSV['sentiment'] == 'positive', 1, 0)"
      ],
      "metadata": {
        "id": "45Z6eoDvCB6S"
      },
      "execution_count": 5,
      "outputs": []
    },
    {
      "cell_type": "code",
      "source": [
        "#Converting to numpy arrays\n",
        "Sentences = np.array(dataCSV['review'])\n",
        "Sentiments = np.array(dataCSV['sentiment'])"
      ],
      "metadata": {
        "id": "NcXH_l-TSRg9"
      },
      "execution_count": 6,
      "outputs": []
    },
    {
      "cell_type": "markdown",
      "source": [
        "# **Cleaning Data**"
      ],
      "metadata": {
        "id": "cVUkWZu7Z87M"
      }
    },
    {
      "cell_type": "code",
      "source": [
        "# Removing noise from text_data\n",
        "print(\"Data before\")\n",
        "print(Sentences)\n",
        "url_pattern = re.compile(r'https?://\\S+|www\\.\\S+')\n",
        "for i in range(len(Sentences)):\n",
        "  #Removing URls\n",
        "  Sentences[i] = url_pattern.sub(r'', Sentences[i])\n",
        "  #Removing emails\n",
        "  Sentences[i] = re.sub('\\S*@\\S*\\s?', '', Sentences[i])\n",
        "  #Removing single quotes\n",
        "  Sentences[i] = re.sub(\"\\'\", \"\", Sentences[i])\n",
        "  #Removing double quotes\n",
        "  Sentences[i] = re.sub('\\\"', '', Sentences[i])\n",
        "  #Removing <br/> tags\n",
        "  Sentences[i] = re.sub('<br />', '', Sentences[i])\n",
        "  #Removing Punctuations\n",
        "  Sentences[i] = Sentences[i].translate(str.maketrans('', '', string.punctuation))\n",
        "  #All to lower\n",
        "  Sentences[i] = Sentences[i].lower()\n",
        "  #remove stop words\n",
        "  stop_words = set(stopwords.words('english'))\n",
        "  word_token = word_tokenize(Sentences[i])\n",
        "  Filtered_Words=[]\n",
        "  for w in word_token:\n",
        "    if w not in stop_words:\n",
        "      Filtered_Words.append(w)\n",
        "  Sentences[i] = \"\"\n",
        "  for j in range(len(Filtered_Words)):\n",
        "    Sentences[i] = Sentences[i] + \" \" + Filtered_Words[j]\n",
        "Sentences = np.array(Sentences)\n",
        "print(\"Data After\")\n",
        "print(Sentences)"
      ],
      "metadata": {
        "colab": {
          "base_uri": "https://localhost:8080/"
        },
        "id": "JYdh4UwpVqhq",
        "outputId": "b6242712-fb39-4132-f8fd-bb4433780296"
      },
      "execution_count": 7,
      "outputs": [
        {
          "output_type": "stream",
          "name": "stdout",
          "text": [
            "Data before\n",
            "[\"One of the other reviewers has mentioned that after watching just 1 Oz episode you'll be hooked. They are right, as this is exactly what happened with me.<br /><br />The first thing that struck me about Oz was its brutality and unflinching scenes of violence, which set in right from the word GO. Trust me, this is not a show for the faint hearted or timid. This show pulls no punches with regards to drugs, sex or violence. Its is hardcore, in the classic use of the word.<br /><br />It is called OZ as that is the nickname given to the Oswald Maximum Security State Penitentary. It focuses mainly on Emerald City, an experimental section of the prison where all the cells have glass fronts and face inwards, so privacy is not high on the agenda. Em City is home to many..Aryans, Muslims, gangstas, Latinos, Christians, Italians, Irish and more....so scuffles, death stares, dodgy dealings and shady agreements are never far away.<br /><br />I would say the main appeal of the show is due to the fact that it goes where other shows wouldn't dare. Forget pretty pictures painted for mainstream audiences, forget charm, forget romance...OZ doesn't mess around. The first episode I ever saw struck me as so nasty it was surreal, I couldn't say I was ready for it, but as I watched more, I developed a taste for Oz, and got accustomed to the high levels of graphic violence. Not just violence, but injustice (crooked guards who'll be sold out for a nickel, inmates who'll kill on order and get away with it, well mannered, middle class inmates being turned into prison bitches due to their lack of street skills or prison experience) Watching Oz, you may become comfortable with what is uncomfortable viewing....thats if you can get in touch with your darker side.\"\n",
            " 'A wonderful little production. <br /><br />The filming technique is very unassuming- very old-time-BBC fashion and gives a comforting, and sometimes discomforting, sense of realism to the entire piece. <br /><br />The actors are extremely well chosen- Michael Sheen not only \"has got all the polari\" but he has all the voices down pat too! You can truly see the seamless editing guided by the references to Williams\\' diary entries, not only is it well worth the watching but it is a terrificly written and performed piece. A masterful production about one of the great master\\'s of comedy and his life. <br /><br />The realism really comes home with the little things: the fantasy of the guard which, rather than use the traditional \\'dream\\' techniques remains solid then disappears. It plays on our knowledge and our senses, particularly with the scenes concerning Orton and Halliwell and the sets (particularly of their flat with Halliwell\\'s murals decorating every surface) are terribly well done.'\n",
            " 'I thought this was a wonderful way to spend time on a too hot summer weekend, sitting in the air conditioned theater and watching a light-hearted comedy. The plot is simplistic, but the dialogue is witty and the characters are likable (even the well bread suspected serial killer). While some may be disappointed when they realize this is not Match Point 2: Risk Addiction, I thought it was proof that Woody Allen is still fully in control of the style many of us have grown to love.<br /><br />This was the most I\\'d laughed at one of Woody\\'s comedies in years (dare I say a decade?). While I\\'ve never been impressed with Scarlet Johanson, in this she managed to tone down her \"sexy\" image and jumped right into a average, but spirited young woman.<br /><br />This may not be the crown jewel of his career, but it was wittier than \"Devil Wears Prada\" and more interesting than \"Superman\" a great comedy to go see with friends.'\n",
            " ...\n",
            " \"John Wayne & Albert Dekker compete for oil rights on Indian territory, and for the attention of Martha Scott in this Republic Pictures film shot out of Utah, USA.<br /><br />An interesting Western of sorts due to its characters and its more modern setting, with Wayne & Dekker playing the old and new factions of the West. It's based on a story by Thomson Burtis who co-writes the script along with Eleanore Griffin and Ethel Hill. Albert Rogell directs in the workmanlike way that befits his career. A pretty mundane story is in truth saved by its final third, where thankfully the action picks up and we are treated to something resembling a pulse. The light hearted approach to the romantic strand doesn't sit quite right, and a glorious fist fight between the two protagonists is ruined by Rogell being unable to disguise the stunt men doing the work. But hey, stunt men deserve their moment of glory always. Solid support comes from George 'Gabby' Hayes and Wayne as usual has much screen charisma, particularly when rattling off his pistol. But in spite of its better than usual Republic budget, it remains a film of interest only to 1940s Wayne enthusiasts. 4/10\"\n",
            " 'Tarantino once remarked on a melodrama from the 1930s called Backstreet that \"tragedy is like another character\" in the film. The same could be said- and not withstanding bringing up Tarantino- for Sidney Lumet\\'s best work in years, a melodrama where character is of the utmost concern not simply because of what\\'s at stake with the cast involved. Kelly Masterson doesn\\'t have a masterpiece of a script here (it basically breaks into crazy killer mode by the end in a series of climactic events that only work by the very end, and even there suspension of disbelief is paramount), but her script does convey character before plot, and in a story where the actions surround a heist it\\'s crucial to know who these people are beat by beat. It\\'s bleak as hell, unforgiving as Satan, but also absolutely riveting 90% of the time.<br /><br />Chalk it up not just because Lumet knows how to handle a non-linear script where we see the day-to-day actions of character to character before during, and mostly after the botched \\'mom-&-pop\\' jewelry store robbery occurs, but because of the formidable cast assembled (which, I might add, is Lumet\\'s specialty). Philip Seymour Hoffman and Ethan Hawke are brothers with their own respective financial f***-ups, and the former approaches the latter on what looks like a fool-proof heist: looting their own mother and father\\'s jewelry store in Westchester. Hawke\\'s Hank involves another shady character though, murders occur, and suddenly it\\'s tragedy on a Greek scale affecting the brothers and their father, played by a perfect Albert Finney. It\\'s the kind of material that most actors love- characters who, like in Dog Day Afternoon, are painfully human, flawed to the bone but only wanting love &/or things to be set right, and have the complete inability to fulfill their wants and needs.<br /><br />In this case though Hoffman and Hawke are matched splendidly; Hoffman has, until the aforementioned last ten minutes, a super-calm and occasionally joking demeanor that reveals him as the brains of the operation, but then smaller scenes where he breaks down emotionally (i.e. with Finney or the car scene with Tomei) push his talents to the limit; Hawke, meanwhile, is called a loser by his ex-wife and daughter, can\\'t pay any debts at all, and is called a baby by his own father, and he fills the bill of the part in all the ways that matter- he\\'s not quite as flawed as his older brother, but who wants to pick a straw for that title? And Finney, as mentioned, is spot-on all the way through, making his turn in Big Fish look like child\\'s play (the final scenes with him are terrifyingly tragic, his face recoiling in a horror that has built up all through the second half).<br /><br />Also featuring supporting turns from a finely ditsy and perversely two-timing Marisa Tomei, Bug\\'s Michael Shannon as bad-ass white trash, and Amy Ryan, Brian F. O\\'Byrne and Rosemary Harris making brief, exact impressions, this is a film with a tremendous lot of skill and heart- but not a forgiving heart- with a story that doubles back on details not for showy plot devices but to make clear every step of a family\\'s perpetual downward spiral. If it\\'s not as mind-blowing as Serpico or Network or the Pawnbroker or 12 Angry Men it comes as close as anything Lumet\\'s done since.'\n",
            " 'Aah yes the workout show was a great. Not only did many women get in shape, but many teenage boys got a great workout as well. I am not saying that the show was in any way not appropriate for family viewing, but if you check the other works from the shows producer, you will find more adult themes in his works, which are also excellent. Many of the viewers looked forward to the show, men and women alike all gained good information and a wonderful release,from the workouts. The girls were perfect, and Beautiful, the show is a classic and should do well in syndication. The show should still be on, as there are never enough choices to view when it comes to health and beauty.']\n",
            "Data After\n",
            "[' one reviewers mentioned watching 1 oz episode youll hooked right exactly happened methe first thing struck oz brutality unflinching scenes violence set right word go trust show faint hearted timid show pulls punches regards drugs sex violence hardcore classic use wordit called oz nickname given oswald maximum security state penitentary focuses mainly emerald city experimental section prison cells glass fronts face inwards privacy high agenda em city home manyaryans muslims gangstas latinos christians italians irish moreso scuffles death stares dodgy dealings shady agreements never far awayi would say main appeal show due fact goes shows wouldnt dare forget pretty pictures painted mainstream audiences forget charm forget romanceoz doesnt mess around first episode ever saw struck nasty surreal couldnt say ready watched developed taste oz got accustomed high levels graphic violence violence injustice crooked guards wholl sold nickel inmates wholl kill order get away well mannered middle class inmates turned prison bitches due lack street skills prison experience watching oz may become comfortable uncomfortable viewingthats get touch darker side'\n",
            " ' wonderful little production filming technique unassuming oldtimebbc fashion gives comforting sometimes discomforting sense realism entire piece actors extremely well chosen michael sheen got polari voices pat truly see seamless editing guided references williams diary entries well worth watching terrificly written performed piece masterful production one great masters comedy life realism really comes home little things fantasy guard rather use traditional dream techniques remains solid disappears plays knowledge senses particularly scenes concerning orton halliwell sets particularly flat halliwells murals decorating every surface terribly well done'\n",
            " ' thought wonderful way spend time hot summer weekend sitting air conditioned theater watching lighthearted comedy plot simplistic dialogue witty characters likable even well bread suspected serial killer may disappointed realize match point 2 risk addiction thought proof woody allen still fully control style many us grown lovethis id laughed one woodys comedies years dare say decade ive never impressed scarlet johanson managed tone sexy image jumped right average spirited young womanthis may crown jewel career wittier devil wears prada interesting superman great comedy go see friends'\n",
            " ...\n",
            " ' john wayne albert dekker compete oil rights indian territory attention martha scott republic pictures film shot utah usaan interesting western sorts due characters modern setting wayne dekker playing old new factions west based story thomson burtis cowrites script along eleanore griffin ethel hill albert rogell directs workmanlike way befits career pretty mundane story truth saved final third thankfully action picks treated something resembling pulse light hearted approach romantic strand doesnt sit quite right glorious fist fight two protagonists ruined rogell unable disguise stunt men work hey stunt men deserve moment glory always solid support comes george gabby hayes wayne usual much screen charisma particularly rattling pistol spite better usual republic budget remains film interest 1940s wayne enthusiasts 410'\n",
            " ' tarantino remarked melodrama 1930s called backstreet tragedy like another character film could said withstanding bringing tarantino sidney lumets best work years melodrama character utmost concern simply whats stake cast involved kelly masterson doesnt masterpiece script basically breaks crazy killer mode end series climactic events work end even suspension disbelief paramount script convey character plot story actions surround heist crucial know people beat beat bleak hell unforgiving satan also absolutely riveting 90 timechalk lumet knows handle nonlinear script see daytoday actions character character mostly botched mompop jewelry store robbery occurs formidable cast assembled might add lumets specialty philip seymour hoffman ethan hawke brothers respective financial fups former approaches latter looks like foolproof heist looting mother fathers jewelry store westchester hawkes hank involves another shady character though murders occur suddenly tragedy greek scale affecting brothers father played perfect albert finney kind material actors love characters like dog day afternoon painfully human flawed bone wanting love things set right complete inability fulfill wants needsin case though hoffman hawke matched splendidly hoffman aforementioned last ten minutes supercalm occasionally joking demeanor reveals brains operation smaller scenes breaks emotionally ie finney car scene tomei push talents limit hawke meanwhile called loser exwife daughter cant pay debts called baby father fills bill part ways matter hes quite flawed older brother wants pick straw title finney mentioned spoton way making turn big fish look like childs play final scenes terrifyingly tragic face recoiling horror built second halfalso featuring supporting turns finely ditsy perversely twotiming marisa tomei bugs michael shannon badass white trash amy ryan brian f obyrne rosemary harris making brief exact impressions film tremendous lot skill heart forgiving heart story doubles back details showy plot devices make clear every step familys perpetual downward spiral mindblowing serpico network pawnbroker 12 angry men comes close anything lumets done since'\n",
            " ' aah yes workout show great many women get shape many teenage boys got great workout well saying show way appropriate family viewing check works shows producer find adult themes works also excellent many viewers looked forward show men women alike gained good information wonderful releasefrom workouts girls perfect beautiful show classic well syndication show still never enough choices view comes health beauty']\n"
          ]
        }
      ]
    },
    {
      "cell_type": "markdown",
      "source": [
        "# **Tokenizing Data**\n",
        "We will use keras Tokenizer as well as pad_sequences method to transform data to 3D float data so that our neural network can understand it"
      ],
      "metadata": {
        "id": "jrMwuZn2alQx"
      }
    },
    {
      "cell_type": "code",
      "source": [
        "tokenizer = Tokenizer()\n",
        "tokenizer.fit_on_texts(Sentences)\n",
        "Seq_Token = tokenizer.texts_to_sequences(Sentences)\n",
        "Max_Seq_Length = 200\n",
        "Padded_Train = pad_sequences(Seq_Token, maxlen = Max_Seq_Length, padding='post', truncating='post')\n",
        "print(Padded_Train)"
      ],
      "metadata": {
        "colab": {
          "base_uri": "https://localhost:8080/"
        },
        "id": "i8pLJ9HoW8Qq",
        "outputId": "872145fc-c851-417a-8ec2-ca92e34dd216"
      },
      "execution_count": 8,
      "outputs": [
        {
          "output_type": "stream",
          "name": "stdout",
          "text": [
            "[[     3   1735    878 ...      0      0      0]\n",
            " [   267     35    244 ...      0      0      0]\n",
            " [    97    267     25 ...      0      0      0]\n",
            " ...\n",
            " [   204   1952   2235 ...      0      0      0]\n",
            " [  3393  16004   2426 ...     79    893  14212]\n",
            " [143765    337  11020 ...      0      0      0]]\n"
          ]
        }
      ]
    },
    {
      "cell_type": "code",
      "source": [
        "#Spliting the Data\n",
        "X_train, X_test, y_train, y_test = train_test_split(Padded_Train, Sentiments, test_size=0.25, random_state=1)\n",
        "print(len(X_train), len(X_test), len(y_train), len(y_test))"
      ],
      "metadata": {
        "colab": {
          "base_uri": "https://localhost:8080/"
        },
        "id": "5O8MzOHifOwA",
        "outputId": "d3bc0088-766c-4a0c-de16-87454a8b83e1"
      },
      "execution_count": 11,
      "outputs": [
        {
          "output_type": "stream",
          "name": "stdout",
          "text": [
            "18749 6250 18749 6250\n"
          ]
        }
      ]
    },
    {
      "cell_type": "markdown",
      "source": [
        "# **Building our Model**\n",
        "We will use Bidirection LSTM, which generates great results with talking about text classification\n",
        "Our Sequencial Model will consists of:\n",
        "1. Embedding Layer: batch-size=128\n",
        "2. Bidirection LSTM layer with 128 units.\n",
        "3. Next are three dense layers with ReLU activation function. First and second with 64 units and third one with 16 units.\n",
        "4. Model also has dropout layers, which will prevent overfitting\n",
        "5. Last one is the output layer with is a Dense layer with single neuron."
      ],
      "metadata": {
        "id": "cyeOf0LGbCs0"
      }
    },
    {
      "cell_type": "code",
      "source": [
        "#Model\n",
        "total_words = len(tokenizer.word_index) + 1\n",
        "model = Sequential()\n",
        "model.add(Embedding(total_words, 128, input_length = Max_Seq_Length))\n",
        "model.add(Bidirectional(LSTM(128)))\n",
        "model.add(Dense(64, activation='relu'))\n",
        "model.add(Dropout(0.2))\n",
        "model.add(Dense(64, activation='relu'))\n",
        "model.add(Dropout(0.2))\n",
        "model.add(Dense(16, activation='relu'))\n",
        "model.add(Dropout(0.2))\n",
        "model.add(Dense(1, activation='sigmoid'))\n",
        "model.compile(optimizer='adam',loss='binary_crossentropy', metrics=['accuracy'])\n",
        "print(model.summary())"
      ],
      "metadata": {
        "colab": {
          "base_uri": "https://localhost:8080/"
        },
        "id": "-fUgzxRNi5-M",
        "outputId": "81d8b568-45c9-46cf-a5f2-d3c86dedbe27"
      },
      "execution_count": 9,
      "outputs": [
        {
          "output_type": "stream",
          "name": "stdout",
          "text": [
            "Model: \"sequential\"\n",
            "_________________________________________________________________\n",
            " Layer (type)                Output Shape              Param #   \n",
            "=================================================================\n",
            " embedding (Embedding)       (None, 200, 128)          18402176  \n",
            "                                                                 \n",
            " bidirectional (Bidirection  (None, 256)               263168    \n",
            " al)                                                             \n",
            "                                                                 \n",
            " dense (Dense)               (None, 64)                16448     \n",
            "                                                                 \n",
            " dropout (Dropout)           (None, 64)                0         \n",
            "                                                                 \n",
            " dense_1 (Dense)             (None, 64)                4160      \n",
            "                                                                 \n",
            " dropout_1 (Dropout)         (None, 64)                0         \n",
            "                                                                 \n",
            " dense_2 (Dense)             (None, 16)                1040      \n",
            "                                                                 \n",
            " dropout_2 (Dropout)         (None, 16)                0         \n",
            "                                                                 \n",
            " dense_3 (Dense)             (None, 1)                 17        \n",
            "                                                                 \n",
            "=================================================================\n",
            "Total params: 18687009 (71.29 MB)\n",
            "Trainable params: 18687009 (71.29 MB)\n",
            "Non-trainable params: 0 (0.00 Byte)\n",
            "_________________________________________________________________\n",
            "None\n"
          ]
        }
      ]
    },
    {
      "cell_type": "code",
      "source": [
        "history = model.fit(X_train, y_train, epochs=5, validation_data=(X_test, y_test))"
      ],
      "metadata": {
        "colab": {
          "base_uri": "https://localhost:8080/"
        },
        "id": "pNOgtv_2Bhc8",
        "outputId": "1cf05dfc-6e85-41ad-ba99-da798f62fbf0"
      },
      "execution_count": 12,
      "outputs": [
        {
          "output_type": "stream",
          "name": "stdout",
          "text": [
            "Epoch 1/5\n",
            "586/586 [==============================] - 818s 1s/step - loss: 0.4870 - accuracy: 0.7752 - val_loss: 0.3729 - val_accuracy: 0.8392\n",
            "Epoch 2/5\n",
            "586/586 [==============================] - 761s 1s/step - loss: 0.1858 - accuracy: 0.9360 - val_loss: 0.3838 - val_accuracy: 0.8646\n",
            "Epoch 3/5\n",
            "586/586 [==============================] - 797s 1s/step - loss: 0.0686 - accuracy: 0.9787 - val_loss: 0.7050 - val_accuracy: 0.8579\n",
            "Epoch 4/5\n",
            "586/586 [==============================] - 786s 1s/step - loss: 0.0298 - accuracy: 0.9921 - val_loss: 0.6579 - val_accuracy: 0.8466\n",
            "Epoch 5/5\n",
            "586/586 [==============================] - 780s 1s/step - loss: 0.0340 - accuracy: 0.9893 - val_loss: 0.5141 - val_accuracy: 0.8110\n"
          ]
        }
      ]
    },
    {
      "cell_type": "markdown",
      "source": [
        "# **Prediction**"
      ],
      "metadata": {
        "id": "u4Psrqzvclub"
      }
    },
    {
      "cell_type": "code",
      "source": [
        "#Prediction\n",
        "sentences = ['this model is doing great', 'It still has many mistakes', 'But yes it is better.',\n",
        "             'As it works on reviews so don\\'t have some words data', 'But it is kind of good',\n",
        "             'Now lets start with examples', 'Ah! you are worse', 'Heyy!! you are awsome',\n",
        "             'I Love you', 'I hate you', 'You are hurting me', 'It\\'s just a time-waste',\n",
        "             'You are Pathetic', 'Want to hang out?', 'You are fabulous', 'You are crazy!',\n",
        "             'Wow!!', 'Alas!!', 'Get Lost!!', 'Fuck Off!!', 'So Cheap Ahan!!', 'You piece of a crap',\n",
        "             'Son of a bitch', 'You are Amazimg', 'This movie is Fantastic',\n",
        "             'You know I Love the way you lie']\n",
        "for sentence in sentences:\n",
        "  print(sentence)\n",
        "  sentence = sentence.lower()\n",
        "  L_sentence = []\n",
        "  L_sentence = tokenizer.texts_to_sequences([sentence])\n",
        "  L_sentence_padded = pad_sequences(L_sentence, maxlen=Max_Seq_Length, padding='post')\n",
        "  print(model.predict(L_sentence_padded))\n",
        "  if model.predict(L_sentence_padded) > 0.6:\n",
        "    print(\"Positive\")\n",
        "  else:\n",
        "    print(\"Negative\")"
      ],
      "metadata": {
        "colab": {
          "base_uri": "https://localhost:8080/"
        },
        "id": "lCRXE_b3MMlt",
        "outputId": "9ad4aab8-bbc2-46c2-c30e-867391e0ee9d"
      },
      "execution_count": 77,
      "outputs": [
        {
          "output_type": "stream",
          "name": "stdout",
          "text": [
            "this model is doing great\n",
            "1/1 [==============================] - 0s 127ms/step\n",
            "[[0.9314127]]\n",
            "1/1 [==============================] - 0s 114ms/step\n",
            "Positive\n",
            "It still has many mistakes\n",
            "1/1 [==============================] - 0s 105ms/step\n",
            "[[0.90869665]]\n",
            "1/1 [==============================] - 0s 116ms/step\n",
            "Positive\n",
            "But yes it is better.\n",
            "1/1 [==============================] - 0s 121ms/step\n",
            "[[0.95071554]]\n",
            "1/1 [==============================] - 0s 108ms/step\n",
            "Positive\n",
            "As it works on reviews so don't have some words data\n",
            "1/1 [==============================] - 0s 121ms/step\n",
            "[[0.37620524]]\n",
            "1/1 [==============================] - 0s 119ms/step\n",
            "Negative\n",
            "But it is kind of good\n",
            "1/1 [==============================] - 0s 149ms/step\n",
            "[[0.8381719]]\n",
            "1/1 [==============================] - 0s 143ms/step\n",
            "Positive\n",
            "Now lets start with examples\n",
            "1/1 [==============================] - 0s 107ms/step\n",
            "[[0.04394163]]\n",
            "1/1 [==============================] - 0s 108ms/step\n",
            "Negative\n",
            "Ah! you are worse\n",
            "1/1 [==============================] - 0s 137ms/step\n",
            "[[0.7092912]]\n",
            "1/1 [==============================] - 0s 129ms/step\n",
            "Positive\n",
            "Heyy!! you are awsome\n",
            "1/1 [==============================] - 0s 114ms/step\n",
            "[[0.8792669]]\n",
            "1/1 [==============================] - 0s 131ms/step\n",
            "Positive\n",
            "I Love you\n",
            "1/1 [==============================] - 0s 116ms/step\n",
            "[[0.8314086]]\n",
            "1/1 [==============================] - 0s 109ms/step\n",
            "Positive\n",
            "I hate you\n",
            "1/1 [==============================] - 0s 137ms/step\n",
            "[[0.93996125]]\n",
            "1/1 [==============================] - 0s 121ms/step\n",
            "Positive\n",
            "You are hurting me\n",
            "1/1 [==============================] - 0s 108ms/step\n",
            "[[0.95923877]]\n",
            "1/1 [==============================] - 0s 119ms/step\n",
            "Positive\n",
            "It's just a time-waste\n",
            "1/1 [==============================] - 0s 126ms/step\n",
            "[[0.01551666]]\n",
            "1/1 [==============================] - 0s 60ms/step\n",
            "Negative\n",
            "You are Pathetic\n",
            "1/1 [==============================] - 0s 72ms/step\n",
            "[[0.5961972]]\n",
            "1/1 [==============================] - 0s 65ms/step\n",
            "Negative\n",
            "Want to hang out?\n",
            "1/1 [==============================] - 0s 63ms/step\n",
            "[[0.84414816]]\n",
            "1/1 [==============================] - 0s 65ms/step\n",
            "Positive\n",
            "You are fabulous\n",
            "1/1 [==============================] - 0s 63ms/step\n",
            "[[0.8813083]]\n",
            "1/1 [==============================] - 0s 63ms/step\n",
            "Positive\n",
            "You are crazy!\n",
            "1/1 [==============================] - 0s 64ms/step\n",
            "[[0.96164817]]\n",
            "1/1 [==============================] - 0s 63ms/step\n",
            "Positive\n",
            "Wow!!\n",
            "1/1 [==============================] - 0s 67ms/step\n",
            "[[0.8684397]]\n",
            "1/1 [==============================] - 0s 62ms/step\n",
            "Positive\n",
            "Alas!!\n",
            "1/1 [==============================] - 0s 69ms/step\n",
            "[[0.18371826]]\n",
            "1/1 [==============================] - 0s 61ms/step\n",
            "Negative\n",
            "Get Lost!!\n",
            "1/1 [==============================] - 0s 63ms/step\n",
            "[[0.58556294]]\n",
            "1/1 [==============================] - 0s 74ms/step\n",
            "Negative\n",
            "Fuck Off!!\n",
            "1/1 [==============================] - 0s 67ms/step\n",
            "[[0.9115932]]\n",
            "1/1 [==============================] - 0s 68ms/step\n",
            "Positive\n",
            "So Cheap Ahan!!\n",
            "1/1 [==============================] - 0s 67ms/step\n",
            "[[0.11489215]]\n",
            "1/1 [==============================] - 0s 58ms/step\n",
            "Negative\n",
            "You piece of a crap\n",
            "1/1 [==============================] - 0s 62ms/step\n",
            "[[0.10558267]]\n",
            "1/1 [==============================] - 0s 64ms/step\n",
            "Negative\n",
            "Son of a bitch\n",
            "1/1 [==============================] - 0s 61ms/step\n",
            "[[0.1069122]]\n",
            "1/1 [==============================] - 0s 65ms/step\n",
            "Negative\n",
            "You are Amazimg\n",
            "1/1 [==============================] - 0s 70ms/step\n",
            "[[0.9271598]]\n",
            "1/1 [==============================] - 0s 66ms/step\n",
            "Positive\n",
            "This movie is Fantastic\n",
            "1/1 [==============================] - 0s 64ms/step\n",
            "[[0.96133596]]\n",
            "1/1 [==============================] - 0s 82ms/step\n",
            "Positive\n",
            "You know I Love the way you lie\n",
            "1/1 [==============================] - 0s 63ms/step\n",
            "[[0.31618372]]\n",
            "1/1 [==============================] - 0s 63ms/step\n",
            "Negative\n"
          ]
        }
      ]
    }
  ]
}
